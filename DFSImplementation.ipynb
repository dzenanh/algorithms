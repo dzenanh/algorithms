{
 "cells": [
  {
   "cell_type": "code",
   "execution_count": 205,
   "metadata": {
    "collapsed": true
   },
   "outputs": [],
   "source": [
    "# needed for key ordering\n",
    "import collections"
   ]
  },
  {
   "cell_type": "code",
   "execution_count": 20,
   "metadata": {
    "collapsed": true
   },
   "outputs": [],
   "source": [
    "# "
   ]
  },
  {
   "cell_type": "code",
   "execution_count": 143,
   "metadata": {
    "collapsed": true
   },
   "outputs": [],
   "source": [
    "#\n",
    "# Vertex class\n",
    "#\n",
    "class Vertex:\n",
    "    def __init__(self, name):\n",
    "        self.name = name\n",
    "        self.neighbors = {}\n",
    "    \n",
    "    # just for representation\n",
    "    def __str__(self):\n",
    "        return self.name\n",
    "    def __repr__(self):\n",
    "        return self.name\n",
    "        \n",
    "    # add neighbor\n",
    "    def add_neighbor(self, node, distance):\n",
    "        self.neighbors[node] = distance\n",
    "        \n",
    "    # print all neighbors\n",
    "    def print_neighbors(self):\n",
    "        for key, value in self.neighbors.iteritems():\n",
    "            print key, value\n",
    "      \n",
    "    # size of neighborhood\n",
    "    def neighbor_size(self):\n",
    "        print len(self.neighbors)"
   ]
  },
  {
   "cell_type": "code",
   "execution_count": 148,
   "metadata": {
    "collapsed": true
   },
   "outputs": [],
   "source": [
    "# list of nodes in graph\n",
    "S = Vertex(\"S\")\n",
    "A = Vertex(\"A\")\n",
    "D = Vertex(\"D\")\n",
    "B = Vertex(\"B\")\n",
    "C = Vertex(\"C\")\n",
    "T = Vertex(\"T\")"
   ]
  },
  {
   "cell_type": "code",
   "execution_count": 178,
   "metadata": {
    "collapsed": false
   },
   "outputs": [],
   "source": [
    "#\n",
    "# Graph class\n",
    "#\n",
    "class Graph:\n",
    "    def __init__(self, name):\n",
    "        self.name = name\n",
    "        self.vertices = set()\n",
    "        self.edges = {}\n",
    "    \n",
    "    def add_vertice(self, vertex):\n",
    "        self.vertices.add(vertex)\n",
    "        \n",
    "    def add_edge(self, start, end, distance):\n",
    "        if start not in self.edges:\n",
    "            self.edges[start] = {}\n",
    "        # else    \n",
    "        self.edges[start][end] = distance\n",
    "            \n",
    "    # print vertices\n",
    "    def print_vertices(self):\n",
    "        for v in self.vertices:\n",
    "            print v\n",
    "    \n",
    "    # get list of edges\n",
    "    def print_edges(self):\n",
    "        print self.edges\n",
    "    \n",
    "    # get neighbors\n",
    "    def get_adjecent(self, node):\n",
    "        return self.edges[node]"
   ]
  },
  {
   "cell_type": "markdown",
   "metadata": {},
   "source": [
    "<img src=\"1-7-kbs-graph.JPG\" title=\"Graph\" />"
   ]
  },
  {
   "cell_type": "code",
   "execution_count": 180,
   "metadata": {
    "collapsed": true
   },
   "outputs": [],
   "source": [
    "# construct graph\n",
    "G1 = Graph(\"example\")\n",
    "G1.add_edge(S,D,4)\n",
    "G1.add_edge(S,A,7)\n",
    "G1.add_edge(A,D,1)\n",
    "G1.add_edge(A,B,1)\n",
    "G1.add_edge(D,B,5)\n",
    "G1.add_edge(D,C,7)\n",
    "G1.add_edge(B,C,8)\n",
    "G1.add_edge(B,T,10)\n",
    "G1.add_edge(C,T,1)"
   ]
  },
  {
   "cell_type": "code",
   "execution_count": 181,
   "metadata": {
    "collapsed": false
   },
   "outputs": [
    {
     "name": "stdout",
     "output_type": "stream",
     "text": [
      "{C: {T: 1}, S: {A: 7, D: 4}, B: {C: 8, T: 10}, A: {B: 1, D: 1}, D: {C: 7, B: 5}}\n"
     ]
    }
   ],
   "source": [
    "G1.print_edges()"
   ]
  },
  {
   "cell_type": "code",
   "execution_count": 182,
   "metadata": {
    "collapsed": false
   },
   "outputs": [
    {
     "data": {
      "text/plain": [
       "{C: 8, T: 10}"
      ]
     },
     "execution_count": 182,
     "metadata": {},
     "output_type": "execute_result"
    }
   ],
   "source": [
    "G1.get_adjecent(B)"
   ]
  },
  {
   "cell_type": "code",
   "execution_count": 185,
   "metadata": {
    "collapsed": false
   },
   "outputs": [
    {
     "name": "stdout",
     "output_type": "stream",
     "text": [
      "C\n",
      "T\n"
     ]
    }
   ],
   "source": [
    "for k,v in G1.get_adjecent(B).iteritems():\n",
    "    print k"
   ]
  },
  {
   "cell_type": "code",
   "execution_count": 157,
   "metadata": {
    "collapsed": false
   },
   "outputs": [
    {
     "name": "stdout",
     "output_type": "stream",
     "text": [
      "3\n",
      "2\n"
     ]
    }
   ],
   "source": [
    "# test stack LIFO\n",
    "stack = []\n",
    "stack.append(1)\n",
    "stack.append(2)\n",
    "stack.append(3)\n",
    "\n",
    "print stack.pop()\n",
    "print stack.pop()"
   ]
  },
  {
   "cell_type": "code",
   "execution_count": 154,
   "metadata": {
    "collapsed": true
   },
   "outputs": [],
   "source": [
    "# DFS (Depth First Search) Python implementation"
   ]
  },
  {
   "cell_type": "code",
   "execution_count": 216,
   "metadata": {
    "collapsed": true
   },
   "outputs": [],
   "source": [
    "# Depth First Search\n",
    "def DFS(start,end):\n",
    "    # init stack(LIFO), visitedSet, parentMap\n",
    "    myStack = []\n",
    "    visitedSet = set()\n",
    "    parentMap = collections.OrderedDict()\n",
    "    # push start onto stack and add to visited\n",
    "    myStack.append(start)\n",
    "    visitedSet.add(start)\n",
    "    # while stack not empty\n",
    "    while len(myStack) > 0:\n",
    "        # pop from stack \n",
    "        current = myStack.pop()\n",
    "        # if current == end -> return parent map\n",
    "        if current == end:\n",
    "            return parentMap\n",
    "        \n",
    "        # foreach current neighbor n not visited\n",
    "        for neighbor, distance in G1.get_adjecent(current).items():\n",
    "            if neighbor not in visitedSet:\n",
    "                # add n to visited set\n",
    "                visitedSet.add(neighbor)\n",
    "                # add current as parent of n\n",
    "                parentMap[current] = neighbor\n",
    "                # push n onto stack \n",
    "                myStack.append(neighbor)\n",
    "    # if here -> no path\n",
    "    return {}"
   ]
  },
  {
   "cell_type": "code",
   "execution_count": 217,
   "metadata": {
    "collapsed": false
   },
   "outputs": [
    {
     "data": {
      "text/plain": [
       "OrderedDict([(S, D), (D, B), (B, T)])"
      ]
     },
     "execution_count": 217,
     "metadata": {},
     "output_type": "execute_result"
    }
   ],
   "source": [
    "# find path between some nodes in graph\n",
    "DFS(S,T)"
   ]
  },
  {
   "cell_type": "code",
   "execution_count": 106,
   "metadata": {
    "collapsed": false
   },
   "outputs": [
    {
     "data": {
      "text/plain": [
       "<bound method Vertex.print_neighbors of S>"
      ]
     },
     "execution_count": 106,
     "metadata": {},
     "output_type": "execute_result"
    }
   ],
   "source": [
    "vertexS.print_neighbors()"
   ]
  }
 ],
 "metadata": {
  "anaconda-cloud": {},
  "kernelspec": {
   "display_name": "Python [default]",
   "language": "python",
   "name": "python2"
  },
  "language_info": {
   "codemirror_mode": {
    "name": "ipython",
    "version": 2
   },
   "file_extension": ".py",
   "mimetype": "text/x-python",
   "name": "python",
   "nbconvert_exporter": "python",
   "pygments_lexer": "ipython2",
   "version": "2.7.12"
  }
 },
 "nbformat": 4,
 "nbformat_minor": 1
}
