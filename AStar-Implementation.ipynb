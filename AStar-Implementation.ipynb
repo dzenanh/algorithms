{
 "cells": [
  {
   "cell_type": "code",
   "execution_count": 1,
   "metadata": {
    "collapsed": true
   },
   "outputs": [],
   "source": [
    "import Queue as Q\n",
    "# needed for key ordering\n",
    "import collections"
   ]
  },
  {
   "cell_type": "code",
   "execution_count": 2,
   "metadata": {
    "collapsed": true
   },
   "outputs": [],
   "source": [
    "#\n",
    "# Vertex class\n",
    "#\n",
    "class Vertex:\n",
    "    def __init__(self, name):\n",
    "        self.name = name\n",
    "        self.neighbors = {}\n",
    "    \n",
    "    # just for representation\n",
    "    def __str__(self):\n",
    "        return self.name\n",
    "    def __repr__(self):\n",
    "        return self.name\n",
    "        \n",
    "    # add neighbor\n",
    "    def add_neighbor(self, node, distance):\n",
    "        self.neighbors[node] = distance\n",
    "        \n",
    "    # print all neighbors\n",
    "    def print_neighbors(self):\n",
    "        for key, value in self.neighbors.iteritems():\n",
    "            print key, value\n",
    "      \n",
    "    # size of neighborhood\n",
    "    def neighbor_size(self):\n",
    "        print len(self.neighbors)"
   ]
  },
  {
   "cell_type": "code",
   "execution_count": 3,
   "metadata": {
    "collapsed": true
   },
   "outputs": [],
   "source": [
    "# list of nodes in graph\n",
    "S = Vertex(\"S\")\n",
    "A = Vertex(\"A\")\n",
    "D = Vertex(\"D\")\n",
    "B = Vertex(\"B\")\n",
    "C = Vertex(\"C\")\n",
    "T = Vertex(\"T\")"
   ]
  },
  {
   "cell_type": "code",
   "execution_count": 18,
   "metadata": {
    "collapsed": true
   },
   "outputs": [],
   "source": [
    "#\n",
    "# Graph class\n",
    "#\n",
    "class Graph:\n",
    "    def __init__(self, name):\n",
    "        self.name = name\n",
    "        self.vertices = set()\n",
    "        self.edges = {}\n",
    "        # this one is used to hold location information of nodes\n",
    "        pseudo_distances = {}\n",
    "    \n",
    "    def add_vertice(self, vertex):\n",
    "        self.vertices.add(vertex)\n",
    "        \n",
    "    def add_edge(self, start, end, distance):\n",
    "        if start not in self.edges:\n",
    "            self.edges[start] = {}\n",
    "        # else    \n",
    "        self.edges[start][end] = distance\n",
    "        \n",
    "        # add to list of vertices\n",
    "        self.vertices.add(start)\n",
    "        self.vertices.add(end)\n",
    "            \n",
    "    # print vertices\n",
    "    def print_vertices(self):\n",
    "        for v in self.vertices:\n",
    "            print v\n",
    "    \n",
    "    def get_vertices(self):\n",
    "        return self.vertices\n",
    "    \n",
    "    # get list of edges\n",
    "    def print_edges(self):\n",
    "        print self.edges\n",
    "    \n",
    "    # get neighbors\n",
    "    def get_adjecent(self, node):\n",
    "        return self.edges[node]\n",
    "    \n",
    "    def get_distance(self,a,b):\n",
    "        start = self.edges[a]\n",
    "        return start[b]\n",
    "    \n",
    "    def init_pseudo_distances(self):\n",
    "        # distances from start node\n",
    "        self.pseudo_distances = dict.fromkeys(self.get_vertices(), 1000*1000)\n",
    "        \n",
    "    def set_psudo_distance(self, node, distance):\n",
    "        self.pseudo_distances[node] = distance\n",
    "        \n",
    "    def get_psudo_distance(self, node):\n",
    "        return self.pseudo_distances[node]\n"
   ]
  },
  {
   "cell_type": "markdown",
   "metadata": {},
   "source": [
    "<img src=\"1-7-kbs-graph2.png\" title=\"Graph\" />"
   ]
  },
  {
   "cell_type": "code",
   "execution_count": 19,
   "metadata": {
    "collapsed": false
   },
   "outputs": [],
   "source": [
    "# construct graph\n",
    "G1 = Graph(\"example\")\n",
    "G1.add_edge(S,D,4)\n",
    "G1.add_edge(S,A,7)\n",
    "G1.add_edge(A,D,1)\n",
    "G1.add_edge(A,B,1)\n",
    "G1.add_edge(D,B,5)\n",
    "G1.add_edge(D,C,7)\n",
    "G1.add_edge(B,C,8)\n",
    "G1.add_edge(B,T,10)\n",
    "G1.add_edge(C,T,1)\n",
    "\n",
    "# add pseudo locations(distances)-> used for heuristics (see picture above)\n",
    "G1.init_pseudo_distances()\n",
    "G1.set_psudo_distance(S,10)\n",
    "G1.set_psudo_distance(A,3)\n",
    "G1.set_psudo_distance(B,2)\n",
    "G1.set_psudo_distance(C,1)\n",
    "G1.set_psudo_distance(D,7)\n",
    "G1.set_psudo_distance(T,0)"
   ]
  },
  {
   "cell_type": "code",
   "execution_count": 20,
   "metadata": {
    "collapsed": true
   },
   "outputs": [],
   "source": [
    "# set pseudo distance (this can be geographical distance)\n"
   ]
  },
  {
   "cell_type": "markdown",
   "metadata": {},
   "source": [
    "AStar(S, G):\n",
    "    Initialize: Priority queue (PQ), visited HashSet,\n",
    "        parent HashMap, and distances to infinity\n",
    "    Enqueue {S, 0} onto the PQ\n",
    "    while PQ is not empty:\n",
    "        dequeue node curr from front of queue\n",
    "        if(curr is not visited)\n",
    "            add curr to visited set\n",
    "        If curr == G return parent map\n",
    "        for each of curr's neighbors, n, not in visited set:\n",
    "            if path through curr to n is shorter\n",
    "                update curr as n's parent in parent map\n",
    "                enqueue {n, distance} into the PQ\n",
    "     // If we get here then there's no path"
   ]
  },
  {
   "cell_type": "code",
   "execution_count": 21,
   "metadata": {
    "collapsed": true
   },
   "outputs": [],
   "source": [
    "def reconstructPath(parentMap, start, goal):\n",
    "    path = list()\n",
    "    current = goal\n",
    "    while current is not start:\n",
    "        path.insert(0, current)\n",
    "        current = parentMap[current]\n",
    "        \n",
    "    path.insert(0,start)\n",
    "    return path"
   ]
  },
  {
   "cell_type": "code",
   "execution_count": 44,
   "metadata": {
    "collapsed": true
   },
   "outputs": [],
   "source": [
    "def AStar(start, end, viewQueue):\n",
    "    #Initialize: Priority queue (PQ), visited HashSet,\n",
    "    #    parent HashMap, and distances to infinity\n",
    "    pQueue = Q.PriorityQueue()\n",
    "    visitedSet = set()\n",
    "    parentMap = collections.OrderedDict()\n",
    "    pseudo_infinity = 1000*1000\n",
    "    initDistances = dict.fromkeys(G1.get_vertices(), pseudo_infinity)\n",
    "    \n",
    "    initDistances[start] = 0\n",
    "    #Enqueue {S, 0} onto the PQ\n",
    "    pQueue.put((0,start))\n",
    "    \n",
    "\n",
    "    #while PQ is not empty:\n",
    "    while not pQueue.empty():\n",
    "        #dequeue node curr from front of queue\n",
    "        current = pQueue.get()[1]\n",
    "        \n",
    "        #if(curr is not visited)\n",
    "        if current not in visitedSet:\n",
    "            #add curr to visited set\n",
    "            visitedSet.add(current)\n",
    "        #If curr == G return parent map\n",
    "        if current == end:\n",
    "            return reconstructPath(parentMap, start, end)\n",
    "        #for each of curr's neighbors, n, not in visited set:\n",
    "        for neighbor, distance in G1.get_adjecent(current).items():\n",
    "            #print neighbor, distance\n",
    "            if neighbor not in visitedSet:\n",
    "                #if path through curr to n is shorter\n",
    "                neighborDistance = G1.get_distance(current, neighbor)\n",
    "                predictedDistance = G1.get_psudo_distance(neighbor)\n",
    "                totalDistance = initDistances[current] + neighborDistance + predictedDistance\n",
    "                \n",
    "                #print current, neighbor, neighborDistance\n",
    "                if totalDistance < initDistances[neighbor]:\n",
    "                    initDistances[neighbor] = totalDistance\n",
    "                    #update curr as n's parent in parent map\n",
    "                    #enqueue {n, distance} into the PQ\n",
    "                    parentMap[neighbor] = current\n",
    "                    pQueue.put((totalDistance, neighbor))\n",
    "                    \n",
    "                    ## show content of the pQueue\n",
    "                    if viewQueue==True:\n",
    "                        print \"current:\",current, \"neighbor:\", neighbor,\", queue:\", pQueue.queue\n",
    "    #// If we get here then there's no path\n",
    "    return {}"
   ]
  },
  {
   "cell_type": "markdown",
   "metadata": {},
   "source": [
    "## Usage"
   ]
  },
  {
   "cell_type": "code",
   "execution_count": 45,
   "metadata": {
    "collapsed": false
   },
   "outputs": [
    {
     "name": "stdout",
     "output_type": "stream",
     "text": [
      "current: S neighbor: A , queue: [(10, A)]\n",
      "current: S neighbor: D , queue: [(10, A), (11, D)]\n",
      "current: A neighbor: B , queue: [(11, D), (13, B)]\n",
      "current: D neighbor: C , queue: [(13, B), (19, C)]\n",
      "current: B neighbor: T , queue: [(19, C), (23, T)]\n",
      "current: C neighbor: T , queue: [(20, T), (23, T)]\n"
     ]
    },
    {
     "data": {
      "text/plain": [
       "[S, D, C, T]"
      ]
     },
     "execution_count": 45,
     "metadata": {},
     "output_type": "execute_result"
    }
   ],
   "source": [
    "AStar(S,T, True)"
   ]
  },
  {
   "cell_type": "code",
   "execution_count": 41,
   "metadata": {
    "collapsed": false
   },
   "outputs": [
    {
     "data": {
      "text/plain": [
       "[S, D, C, T]"
      ]
     },
     "execution_count": 41,
     "metadata": {},
     "output_type": "execute_result"
    }
   ],
   "source": [
    "AStar(S,T, False)"
   ]
  },
  {
   "cell_type": "code",
   "execution_count": null,
   "metadata": {
    "collapsed": true
   },
   "outputs": [],
   "source": []
  }
 ],
 "metadata": {
  "kernelspec": {
   "display_name": "Python [default]",
   "language": "python",
   "name": "python2"
  },
  "language_info": {
   "codemirror_mode": {
    "name": "ipython",
    "version": 2
   },
   "file_extension": ".py",
   "mimetype": "text/x-python",
   "name": "python",
   "nbconvert_exporter": "python",
   "pygments_lexer": "ipython2",
   "version": "2.7.12"
  }
 },
 "nbformat": 4,
 "nbformat_minor": 1
}
