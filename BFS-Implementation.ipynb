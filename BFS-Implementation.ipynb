{
 "cells": [
  {
   "cell_type": "code",
   "execution_count": 1,
   "metadata": {
    "collapsed": true
   },
   "outputs": [],
   "source": [
    "# needed for key ordering\n",
    "import collections"
   ]
  },
  {
   "cell_type": "code",
   "execution_count": 2,
   "metadata": {
    "collapsed": true
   },
   "outputs": [],
   "source": [
    "#\n",
    "# Vertex class\n",
    "#\n",
    "class Vertex:\n",
    "    def __init__(self, name):\n",
    "        self.name = name\n",
    "        self.neighbors = {}\n",
    "    \n",
    "    # just for representation\n",
    "    def __str__(self):\n",
    "        return self.name\n",
    "    def __repr__(self):\n",
    "        return self.name\n",
    "        \n",
    "    # add neighbor\n",
    "    def add_neighbor(self, node, distance):\n",
    "        self.neighbors[node] = distance\n",
    "        \n",
    "    # print all neighbors\n",
    "    def print_neighbors(self):\n",
    "        for key, value in self.neighbors.iteritems():\n",
    "            print key, value\n",
    "      \n",
    "    # size of neighborhood\n",
    "    def neighbor_size(self):\n",
    "        print len(self.neighbors)"
   ]
  },
  {
   "cell_type": "code",
   "execution_count": 3,
   "metadata": {
    "collapsed": true
   },
   "outputs": [],
   "source": [
    "#\n",
    "# Graph class\n",
    "#\n",
    "class Graph:\n",
    "    def __init__(self, name):\n",
    "        self.name = name\n",
    "        self.vertices = set()\n",
    "        self.edges = {}\n",
    "    \n",
    "    def add_vertice(self, vertex):\n",
    "        self.vertices.add(vertex)\n",
    "        \n",
    "    def add_edge(self, start, end, distance):\n",
    "        if start not in self.edges:\n",
    "            self.edges[start] = {}\n",
    "        # else    \n",
    "        self.edges[start][end] = distance\n",
    "            \n",
    "    # print vertices\n",
    "    def print_vertices(self):\n",
    "        for v in self.vertices:\n",
    "            print v\n",
    "    \n",
    "    # get list of edges\n",
    "    def print_edges(self):\n",
    "        print self.edges\n",
    "    \n",
    "    # get neighbors\n",
    "    def get_adjecent(self, node):\n",
    "        return self.edges[node]"
   ]
  },
  {
   "cell_type": "markdown",
   "metadata": {},
   "source": [
    "<img src=\"1-7-kbs-graph.png\" title=\"Graph\" />"
   ]
  },
  {
   "cell_type": "code",
   "execution_count": 6,
   "metadata": {
    "collapsed": false
   },
   "outputs": [],
   "source": [
    "# list of nodes in graph\n",
    "S = Vertex(\"S\")\n",
    "A = Vertex(\"A\")\n",
    "D = Vertex(\"D\")\n",
    "B = Vertex(\"B\")\n",
    "C = Vertex(\"C\")\n",
    "T = Vertex(\"T\")\n",
    "\n",
    "# construct graph\n",
    "G1 = Graph(\"example\")\n",
    "G1.add_edge(S,D,4)\n",
    "G1.add_edge(S,A,7)\n",
    "G1.add_edge(A,D,1)\n",
    "G1.add_edge(A,B,1)\n",
    "G1.add_edge(D,B,5)\n",
    "G1.add_edge(D,C,7)\n",
    "G1.add_edge(B,C,8)\n",
    "G1.add_edge(B,T,10)\n",
    "G1.add_edge(C,T,1)"
   ]
  },
  {
   "cell_type": "markdown",
   "metadata": {},
   "source": [
    "# BFS (Breath First Search) Python implementation"
   ]
  },
  {
   "cell_type": "markdown",
   "metadata": {},
   "source": [
    "### Pseudo\n",
    "\n",
    "BFS(S, G):\n",
    "    Initialize: queue, visited HashSet and parent HashMap\n",
    "    Enqueue S onto the queue and add to visited\n",
    "    while queue is not empty:\n",
    "        dequeue node curr from front of queue\n",
    "        if curr == G return parent map\n",
    "            for each of curr's neighbors, n, not in visited set:\n",
    "                add n to visited set\n",
    "                add curr as n's parent in parent map\n",
    "                enqueue n onto the queue\n",
    "    // If we get here then there's no path\n"
   ]
  },
  {
   "cell_type": "code",
   "execution_count": 51,
   "metadata": {
    "collapsed": false
   },
   "outputs": [],
   "source": [
    "from collections import deque\n",
    "\n",
    "# Breadth First Search\n",
    "def BFS(start,end):\n",
    "    # init stack(FIFO), visitedSet, parentMap\n",
    "    myQueue = deque()\n",
    "    visitedSet = set()\n",
    "    parentMap = collections.OrderedDict()\n",
    "    # push start onto stack and add to visited\n",
    "    myQueue.append(start)\n",
    "    visitedSet.add(start)\n",
    "    # while stack not empty\n",
    "    while len(myQueue) > 0:\n",
    "        # pop from stack \n",
    "        current = myQueue.popleft()\n",
    "        # if current == end -> return parent map\n",
    "        if current == end:\n",
    "            return parentMap\n",
    "        \n",
    "        # foreach current neighbor n not visited\n",
    "        for neighbor, distance in G1.get_adjecent(current).items():\n",
    "            #print \"current:\", current, \"neighbor:\", neighbor\n",
    "            if neighbor not in visitedSet:\n",
    "                # add n to visited set\n",
    "                visitedSet.add(neighbor)\n",
    "                # add current as parent of n\n",
    "                parentMap[neighbor] = current\n",
    "                # push n onto stack \n",
    "                myQueue.append(neighbor)\n",
    "    # if here -> no path\n",
    "    return {}"
   ]
  },
  {
   "cell_type": "code",
   "execution_count": 59,
   "metadata": {
    "collapsed": false
   },
   "outputs": [
    {
     "name": "stdout",
     "output_type": "stream",
     "text": [
      "Parent-Path: OrderedDict([(D, S), (A, S), (B, D), (C, D), (T, B)])\n"
     ]
    }
   ],
   "source": [
    "# find path between some nodes in graph\n",
    "print \"Parent-Path:\", BFS(S,T)"
   ]
  },
  {
   "cell_type": "code",
   "execution_count": null,
   "metadata": {
    "collapsed": true
   },
   "outputs": [],
   "source": []
  },
  {
   "cell_type": "code",
   "execution_count": 56,
   "metadata": {
    "collapsed": true
   },
   "outputs": [],
   "source": [
    "# used for reconstructing path from goal to start\n",
    "def reconstructPath(parentMap, start, goal):\n",
    "    path = list()\n",
    "    current = goal\n",
    "    while current is not start:\n",
    "        path.insert(0, current)\n",
    "        current = parentMap[current]\n",
    "        \n",
    "    path.insert(0,start)\n",
    "    return path"
   ]
  },
  {
   "cell_type": "code",
   "execution_count": 57,
   "metadata": {
    "collapsed": false
   },
   "outputs": [
    {
     "data": {
      "text/plain": [
       "[S, D, B, T]"
      ]
     },
     "execution_count": 57,
     "metadata": {},
     "output_type": "execute_result"
    }
   ],
   "source": [
    "parentMap = BFS(S,T)\n",
    "#print parentMap[B]\n",
    "reconstructPath(parentMap, S,T)"
   ]
  },
  {
   "cell_type": "markdown",
   "metadata": {},
   "source": [
    "### Usage ###"
   ]
  },
  {
   "cell_type": "code",
   "execution_count": 58,
   "metadata": {
    "collapsed": false
   },
   "outputs": [
    {
     "name": "stdout",
     "output_type": "stream",
     "text": [
      "path: [S, D, B]\n"
     ]
    }
   ],
   "source": [
    "\n",
    "start = S\n",
    "end = B\n",
    "\n",
    "parentMap = BFS(start,end)\n",
    "print \"path:\", reconstructPath(parentMap, start, end)"
   ]
  },
  {
   "cell_type": "code",
   "execution_count": null,
   "metadata": {
    "collapsed": true
   },
   "outputs": [],
   "source": []
  }
 ],
 "metadata": {
  "kernelspec": {
   "display_name": "Python [default]",
   "language": "python",
   "name": "python2"
  },
  "language_info": {
   "codemirror_mode": {
    "name": "ipython",
    "version": 2
   },
   "file_extension": ".py",
   "mimetype": "text/x-python",
   "name": "python",
   "nbconvert_exporter": "python",
   "pygments_lexer": "ipython2",
   "version": "2.7.12"
  }
 },
 "nbformat": 4,
 "nbformat_minor": 1
}
