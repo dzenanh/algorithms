{
 "cells": [
  {
   "cell_type": "code",
   "execution_count": 1,
   "metadata": {
    "collapsed": true
   },
   "outputs": [],
   "source": [
    "# needed for key ordering\n",
    "import collections"
   ]
  },
  {
   "cell_type": "code",
   "execution_count": 2,
   "metadata": {
    "collapsed": true
   },
   "outputs": [],
   "source": [
    "#\n",
    "# Vertex class\n",
    "#\n",
    "class Vertex:\n",
    "    def __init__(self, name):\n",
    "        self.name = name\n",
    "        self.neighbors = {}\n",
    "    \n",
    "    # just for representation\n",
    "    def __str__(self):\n",
    "        return self.name\n",
    "    def __repr__(self):\n",
    "        return self.name\n",
    "        \n",
    "    # add neighbor\n",
    "    def add_neighbor(self, node, distance):\n",
    "        self.neighbors[node] = distance\n",
    "        \n",
    "    # print all neighbors\n",
    "    def print_neighbors(self):\n",
    "        for key, value in self.neighbors.iteritems():\n",
    "            print key, value\n",
    "      \n",
    "    # size of neighborhood\n",
    "    def neighbor_size(self):\n",
    "        print len(self.neighbors)"
   ]
  },
  {
   "cell_type": "code",
   "execution_count": 3,
   "metadata": {
    "collapsed": true
   },
   "outputs": [],
   "source": [
    "#\n",
    "# Graph class\n",
    "#\n",
    "class Graph:\n",
    "    def __init__(self, name):\n",
    "        self.name = name\n",
    "        self.vertices = set()\n",
    "        self.edges = {}\n",
    "    \n",
    "    def add_vertice(self, vertex):\n",
    "        self.vertices.add(vertex)\n",
    "        \n",
    "    def add_edge(self, start, end, distance):\n",
    "        if start not in self.edges:\n",
    "            self.edges[start] = {}\n",
    "        # else    \n",
    "        self.edges[start][end] = distance\n",
    "            \n",
    "    # print vertices\n",
    "    def print_vertices(self):\n",
    "        for v in self.vertices:\n",
    "            print v\n",
    "    \n",
    "    # get list of edges\n",
    "    def print_edges(self):\n",
    "        print self.edges\n",
    "    \n",
    "    # get neighbors\n",
    "    def get_adjecent(self, node):\n",
    "        return self.edges[node]"
   ]
  },
  {
   "cell_type": "code",
   "execution_count": null,
   "metadata": {
    "collapsed": true
   },
   "outputs": [],
   "source": [
    "# BFS (Breath First Search) Python implementation\n",
    "'''\n",
    "BFS(S, G):\n",
    "    Initialize: queue, visited HashSet and parent HashMap\n",
    "    Enqueue S onto the queue and add to visited\n",
    "    while queue is not empty:\n",
    "        dequeue node curr from front of queue\n",
    "        if curr == G return parent map\n",
    "            for each of curr's neighbors, n, not in visited set:\n",
    "                add n to visited set\n",
    "                add curr as n's parent in parent map\n",
    "                enqueue n onto the queue\n",
    "    // If we get here then there's no path\n",
    "'''"
   ]
  },
  {
   "cell_type": "code",
   "execution_count": null,
   "metadata": {
    "collapsed": true
   },
   "outputs": [],
   "source": [
    "# Breadth First Search\n",
    "def BFS(start,end):\n",
    "    # init stack(LIFO), visitedSet, parentMap\n",
    "    myStack = []\n",
    "    visitedSet = set()\n",
    "    parentMap = collections.OrderedDict()\n",
    "    # push start onto stack and add to visited\n",
    "    myStack.append(start)\n",
    "    visitedSet.add(start)\n",
    "    # while stack not empty\n",
    "    while len(myStack) > 0:\n",
    "        # pop from stack \n",
    "        current = myStack.pop()\n",
    "        # if current == end -> return parent map\n",
    "        if current == end:\n",
    "            return parentMap\n",
    "        \n",
    "        # foreach current neighbor n not visited\n",
    "        for neighbor, distance in G1.get_adjecent(current).items():\n",
    "            if neighbor not in visitedSet:\n",
    "                # add n to visited set\n",
    "                visitedSet.add(neighbor)\n",
    "                # add current as parent of n\n",
    "                parentMap[current] = neighbor\n",
    "                # push n onto stack \n",
    "                myStack.append(neighbor)\n",
    "    # if here -> no path\n",
    "    return {}"
   ]
  }
 ],
 "metadata": {
  "kernelspec": {
   "display_name": "Python [default]",
   "language": "python",
   "name": "python2"
  },
  "language_info": {
   "codemirror_mode": {
    "name": "ipython",
    "version": 2
   },
   "file_extension": ".py",
   "mimetype": "text/x-python",
   "name": "python",
   "nbconvert_exporter": "python",
   "pygments_lexer": "ipython2",
   "version": "2.7.12"
  }
 },
 "nbformat": 4,
 "nbformat_minor": 1
}
