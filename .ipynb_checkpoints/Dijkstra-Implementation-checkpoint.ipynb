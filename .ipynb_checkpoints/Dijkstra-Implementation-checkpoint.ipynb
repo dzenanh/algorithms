{
 "cells": [
  {
   "cell_type": "code",
   "execution_count": 62,
   "metadata": {
    "collapsed": true
   },
   "outputs": [],
   "source": [
    "import Queue as Q\n",
    "# needed for key ordering\n",
    "import collections"
   ]
  },
  {
   "cell_type": "code",
   "execution_count": 2,
   "metadata": {
    "collapsed": false
   },
   "outputs": [
    {
     "name": "stdout",
     "output_type": "stream",
     "text": [
      "1 5 10\n"
     ]
    }
   ],
   "source": [
    "q = Q.PriorityQueue()\n",
    "q.put(10)\n",
    "q.put(1)\n",
    "q.put(5)\n",
    "while not q.empty():\n",
    "    print q.get(),"
   ]
  },
  {
   "cell_type": "code",
   "execution_count": 3,
   "metadata": {
    "collapsed": true
   },
   "outputs": [],
   "source": [
    "#\n",
    "# Vertex class\n",
    "#\n",
    "class Vertex:\n",
    "    def __init__(self, name):\n",
    "        self.name = name\n",
    "        self.neighbors = {}\n",
    "    \n",
    "    # just for representation\n",
    "    def __str__(self):\n",
    "        return self.name\n",
    "    def __repr__(self):\n",
    "        return self.name\n",
    "        \n",
    "    # add neighbor\n",
    "    def add_neighbor(self, node, distance):\n",
    "        self.neighbors[node] = distance\n",
    "        \n",
    "    # print all neighbors\n",
    "    def print_neighbors(self):\n",
    "        for key, value in self.neighbors.iteritems():\n",
    "            print key, value\n",
    "      \n",
    "    # size of neighborhood\n",
    "    def neighbor_size(self):\n",
    "        print len(self.neighbors)"
   ]
  },
  {
   "cell_type": "code",
   "execution_count": 64,
   "metadata": {
    "collapsed": true
   },
   "outputs": [],
   "source": [
    "# list of nodes in graph\n",
    "S = Vertex(\"S\")\n",
    "A = Vertex(\"A\")\n",
    "D = Vertex(\"D\")\n",
    "B = Vertex(\"B\")\n",
    "C = Vertex(\"C\")\n",
    "T = Vertex(\"T\")"
   ]
  },
  {
   "cell_type": "code",
   "execution_count": 84,
   "metadata": {
    "collapsed": true
   },
   "outputs": [],
   "source": [
    "#\n",
    "# Graph class\n",
    "#\n",
    "class Graph:\n",
    "    def __init__(self, name):\n",
    "        self.name = name\n",
    "        self.vertices = set()\n",
    "        self.edges = {}\n",
    "    \n",
    "    def add_vertice(self, vertex):\n",
    "        self.vertices.add(vertex)\n",
    "        \n",
    "    def add_edge(self, start, end, distance):\n",
    "        if start not in self.edges:\n",
    "            self.edges[start] = {}\n",
    "        # else    \n",
    "        self.edges[start][end] = distance\n",
    "        \n",
    "        # add to list of vertices\n",
    "        self.vertices.add(start)\n",
    "        self.vertices.add(end)\n",
    "            \n",
    "    # print vertices\n",
    "    def print_vertices(self):\n",
    "        for v in self.vertices:\n",
    "            print v\n",
    "    \n",
    "    def get_vertices(self):\n",
    "        return self.vertices\n",
    "    \n",
    "    # get list of edges\n",
    "    def print_edges(self):\n",
    "        print self.edges\n",
    "    \n",
    "    # get neighbors\n",
    "    def get_adjecent(self, node):\n",
    "        return self.edges[node]\n",
    "    \n",
    "    def get_distance(self,a,b):\n",
    "        start = self.edges[a]\n",
    "        return start[b]"
   ]
  },
  {
   "cell_type": "markdown",
   "metadata": {},
   "source": [
    "<img src=\"1-7-kbs-graph2.png\" title=\"Graph\" />"
   ]
  },
  {
   "cell_type": "code",
   "execution_count": 85,
   "metadata": {
    "collapsed": false
   },
   "outputs": [],
   "source": [
    "# construct graph\n",
    "G1 = Graph(\"example\")\n",
    "G1.add_edge(S,D,4)\n",
    "G1.add_edge(S,A,7)\n",
    "G1.add_edge(A,D,1)\n",
    "G1.add_edge(A,B,1)\n",
    "G1.add_edge(D,B,5)\n",
    "G1.add_edge(D,C,7)\n",
    "G1.add_edge(B,C,8)\n",
    "G1.add_edge(B,T,10)\n",
    "G1.add_edge(C,T,1)"
   ]
  },
  {
   "cell_type": "code",
   "execution_count": 86,
   "metadata": {
    "collapsed": false
   },
   "outputs": [
    {
     "data": {
      "text/plain": [
       "{S: 100000, A: 100000, D: 100000, B: 100000, C: 100000, T: 100000}"
      ]
     },
     "execution_count": 86,
     "metadata": {},
     "output_type": "execute_result"
    }
   ],
   "source": [
    "# distances from start node\n",
    "initialDistances = dict.fromkeys(G1.get_vertices(), 1000*100)\n",
    "initialDistances"
   ]
  },
  {
   "cell_type": "markdown",
   "metadata": {},
   "source": [
    "## Dijkstra Pseudo ##"
   ]
  },
  {
   "cell_type": "markdown",
   "metadata": {},
   "source": [
    "Dijkstra(S, G):\n",
    "    Initialize: Priority queue (PQ), visited HashSet,\n",
    "        parent HashMap, and distances to infinity\n",
    "    Enqueue {S, 0} onto the PQ\n",
    "    while PQ is not empty:\n",
    "        dequeue node curr from front of queue\n",
    "        if(curr is not visited)\n",
    "            add curr to visited set\n",
    "        If curr == G return parent map\n",
    "        for each of curr's neighbors, n, not in visited set:\n",
    "            if path through curr to n is shorter\n",
    "                update curr as n's parent in parent map\n",
    "                enqueue {n, distance} into the PQ\n",
    "     // If we get here then there's no path"
   ]
  },
  {
   "cell_type": "markdown",
   "metadata": {},
   "source": [
    "## Dijkstra implementation ##"
   ]
  },
  {
   "cell_type": "code",
   "execution_count": 68,
   "metadata": {
    "collapsed": false
   },
   "outputs": [
    {
     "data": {
      "text/plain": [
       "(8, 'super blah1')"
      ]
     },
     "execution_count": 68,
     "metadata": {},
     "output_type": "execute_result"
    }
   ],
   "source": [
    "import Queue as queue\n",
    "\n",
    "prio_queue = queue.PriorityQueue()\n",
    "prio_queue.put((8, 'super blah1'))\n",
    "prio_queue.put((1, 'super blah2'))\n",
    "prio_queue.put((5, 'super blah3'))\n",
    "\n",
    "prio_queue.get()\n",
    "prio_queue.get()\n",
    "prio_queue.get()"
   ]
  },
  {
   "cell_type": "code",
   "execution_count": 93,
   "metadata": {
    "collapsed": false
   },
   "outputs": [],
   "source": [
    "def dijkstra(start, end):\n",
    "    #Initialize: Priority queue (PQ), visited HashSet,\n",
    "    #    parent HashMap, and distances to infinity\n",
    "    pQueue = queue.PriorityQueue()\n",
    "    visitedSet = set()\n",
    "    parentMap = collections.OrderedDict()\n",
    "    initDistances = dict.fromkeys(G1.get_vertices(), 1000*100)\n",
    "    \n",
    "    initDistances[start] = 0\n",
    "    #Enqueue {S, 0} onto the PQ\n",
    "    pQueue.put((0,start))\n",
    "    \n",
    "    print pQueue\n",
    "\n",
    "    #while PQ is not empty:\n",
    "    while not pQueue.empty():\n",
    "        #dequeue node curr from front of queue\n",
    "        current = pQueue.get()[1]\n",
    "        \n",
    "        #if(curr is not visited)\n",
    "        if current not in visitedSet:\n",
    "            #add curr to visited set\n",
    "            visitedSet.add(current)\n",
    "        #If curr == G return parent map\n",
    "        if current == end:\n",
    "            return parentMap\n",
    "        #for each of curr's neighbors, n, not in visited set:\n",
    "        for neighbor, distance in G1.get_adjecent(current).items():\n",
    "            #print neighbor, distance\n",
    "            if neighbor not in visitedSet:\n",
    "                #if path through curr to n is shorter\n",
    "                neighborDistance = G1.get_distance(current, neighbor)\n",
    "                totalDistance = initDistances[current] + neighborDistance\n",
    "                \n",
    "                print current, neighbor, neighborDistance\n",
    "                if neighborDistance < initDistances[neighbor]:\n",
    "                    initDistances[neighbor] = neighborDistance\n",
    "                    #update curr as n's parent in parent map\n",
    "                    #enqueue {n, distance} into the PQ\n",
    "                    parentMap[current] = neighbor\n",
    "                    pQueue.put((neighborDistance, neighbor))\n",
    "    #// If we get here then there's no path\n",
    "    return {}"
   ]
  },
  {
   "cell_type": "code",
   "execution_count": 94,
   "metadata": {
    "collapsed": false
   },
   "outputs": [
    {
     "name": "stdout",
     "output_type": "stream",
     "text": [
      "<Queue.PriorityQueue instance at 0x7f13f429dcf8>\n",
      "S A 7\n",
      "S D 4\n",
      "D B 5\n",
      "D C 7\n",
      "B T 10\n",
      "B C 8\n",
      "C T 1\n"
     ]
    },
    {
     "data": {
      "text/plain": [
       "OrderedDict([(S, D), (D, C), (B, T), (C, T)])"
      ]
     },
     "execution_count": 94,
     "metadata": {},
     "output_type": "execute_result"
    }
   ],
   "source": [
    "dijkstra(S,T)"
   ]
  },
  {
   "cell_type": "code",
   "execution_count": null,
   "metadata": {
    "collapsed": true
   },
   "outputs": [],
   "source": []
  }
 ],
 "metadata": {
  "kernelspec": {
   "display_name": "Python [default]",
   "language": "python",
   "name": "python2"
  },
  "language_info": {
   "codemirror_mode": {
    "name": "ipython",
    "version": 2
   },
   "file_extension": ".py",
   "mimetype": "text/x-python",
   "name": "python",
   "nbconvert_exporter": "python",
   "pygments_lexer": "ipython2",
   "version": "2.7.12"
  }
 },
 "nbformat": 4,
 "nbformat_minor": 1
}
