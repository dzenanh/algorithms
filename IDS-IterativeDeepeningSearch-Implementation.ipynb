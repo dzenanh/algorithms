{
 "cells": [
  {
   "cell_type": "markdown",
   "metadata": {},
   "source": [
    "# IDS - Iterative Deepening Search #\n",
    "## DFS Extension ##"
   ]
  },
  {
   "cell_type": "code",
   "execution_count": 61,
   "metadata": {
    "collapsed": true
   },
   "outputs": [],
   "source": [
    "# needed for key ordering\n",
    "import collections"
   ]
  },
  {
   "cell_type": "code",
   "execution_count": 62,
   "metadata": {
    "collapsed": true
   },
   "outputs": [],
   "source": [
    "#\n",
    "# Vertex class\n",
    "#\n",
    "class Vertex:\n",
    "    def __init__(self, name):\n",
    "        self.name = name\n",
    "        self.neighbors = {}\n",
    "    \n",
    "    # just for representation\n",
    "    def __str__(self):\n",
    "        return self.name\n",
    "    def __repr__(self):\n",
    "        return self.name\n",
    "        \n",
    "    # add neighbor\n",
    "    def add_neighbor(self, node, distance):\n",
    "        self.neighbors[node] = distance\n",
    "        \n",
    "    # print all neighbors\n",
    "    def print_neighbors(self):\n",
    "        for key, value in self.neighbors.iteritems():\n",
    "            print key, value\n",
    "      \n",
    "    # size of neighborhood\n",
    "    def neighbor_size(self):\n",
    "        print len(self.neighbors)\n",
    "        \n",
    "    "
   ]
  },
  {
   "cell_type": "code",
   "execution_count": 63,
   "metadata": {
    "collapsed": true
   },
   "outputs": [],
   "source": [
    "# list of nodes in graph\n",
    "A = Vertex(\"A\")\n",
    "B = Vertex(\"B\")\n",
    "C = Vertex(\"C\")\n",
    "D = Vertex(\"D\")\n",
    "E = Vertex(\"E\")\n",
    "F = Vertex(\"F\")\n",
    "G = Vertex(\"G\")\n",
    "H = Vertex(\"H\")\n",
    "I = Vertex(\"I\")\n",
    "J = Vertex(\"J\")\n",
    "K = Vertex(\"K\")\n",
    "L = Vertex(\"L\")\n",
    "M = Vertex(\"M\")\n",
    "N = Vertex(\"N\")\n",
    "O = Vertex(\"O\")\n",
    "P = Vertex(\"P\")\n",
    "Q = Vertex(\"Q\")\n",
    "R = Vertex(\"R\")\n",
    "S = Vertex(\"S\")\n",
    "T = Vertex(\"T\")\n",
    "U = Vertex(\"U\")\n",
    "V = Vertex(\"V\")\n",
    "W = Vertex(\"W\")\n",
    "X = Vertex(\"X\")\n",
    "Y = Vertex(\"Y\")\n",
    "Z = Vertex(\"Z\")"
   ]
  },
  {
   "cell_type": "code",
   "execution_count": 187,
   "metadata": {
    "collapsed": false
   },
   "outputs": [],
   "source": [
    "#\n",
    "# Graph class\n",
    "#\n",
    "class Graph:\n",
    "    def __init__(self, name):\n",
    "        self.name = name\n",
    "        self.vertices = set()\n",
    "        self.edges = {}\n",
    "        self.node_level = {}\n",
    "    \n",
    "    def add_vertice(self, vertex):\n",
    "        self.vertices.add(vertex)\n",
    "        \n",
    "    def add_edge(self, start, end, distance):\n",
    "        if start not in self.edges:\n",
    "            self.edges[start] = {}\n",
    "        # else    \n",
    "        self.edges[start][end] = distance\n",
    "            \n",
    "    # print vertices\n",
    "    def print_vertices(self):\n",
    "        for v in self.vertices:\n",
    "            print v\n",
    "    \n",
    "    # get list of edges\n",
    "    def print_edges(self):\n",
    "        print self.edges\n",
    "    \n",
    "    # get neighbors\n",
    "    def get_adjecent(self, node):\n",
    "        if node in self.edges:\n",
    "            return self.edges[node]\n",
    "        else:\n",
    "            return {}\n",
    "        \n",
    "    def set_node_levels(self, node_level_dict):\n",
    "        self.node_level = node_level_dict\n",
    "        \n",
    "    def get_node_level(self, node):\n",
    "        return self.node_level[node]\n",
    "    \n",
    "    def order(self):\n",
    "        self.edges = collections.OrderedDict(sorted(self.edges.items()))\n",
    "    "
   ]
  },
  {
   "cell_type": "markdown",
   "metadata": {},
   "source": [
    "<img src=\"1-8-kbs-tree.png\" title=\"Graph\" />"
   ]
  },
  {
   "cell_type": "code",
   "execution_count": 188,
   "metadata": {
    "collapsed": false
   },
   "outputs": [],
   "source": [
    "# construct graph\n",
    "G1 = Graph(\"example\")\n",
    "G1.add_edge(A,B,7)\n",
    "G1.add_edge(A,C,8)\n",
    "G1.add_edge(A,D,2)\n",
    "G1.add_edge(A,E,3)\n",
    "G1.add_edge(A,F,4)\n",
    "#level 2\n",
    "G1.add_edge(B,G,1)\n",
    "G1.add_edge(B,H,4)\n",
    "G1.add_edge(C,I,3)\n",
    "G1.add_edge(D,J,9)\n",
    "G1.add_edge(D,K,3)\n",
    "G1.add_edge(E,L,2)\n",
    "G1.add_edge(F,M,7)\n",
    "#level 3\n",
    "G1.add_edge(G,N,3)\n",
    "G1.add_edge(H,O,6)\n",
    "G1.add_edge(H,P,5)\n",
    "G1.add_edge(I,Q,7)\n",
    "G1.add_edge(K,R,1)\n",
    "\n",
    "G1.add_edge(L,S,2)\n",
    "G1.add_edge(L,T,1)\n",
    "G1.add_edge(L,U,3)\n",
    "\n",
    "#level 4\n",
    "G1.add_edge(O,V,1)\n",
    "G1.add_edge(O,W,1)\n",
    "G1.add_edge(R,X,2)\n",
    "G1.add_edge(T,Y,2)\n",
    "G1.add_edge(T,Z,3)\n",
    "\n",
    "G1.order()"
   ]
  },
  {
   "cell_type": "code",
   "execution_count": 189,
   "metadata": {
    "collapsed": false
   },
   "outputs": [
    {
     "name": "stdout",
     "output_type": "stream",
     "text": [
      "OrderedDict([(B, {H: 4, G: 1}), (A, {F: 4, B: 7, C: 8, E: 3, D: 2}), (C, {I: 3}), (D, {J: 9, K: 3}), (E, {L: 2}), (F, {M: 7}), (G, {N: 3}), (H, {O: 6, P: 5}), (I, {Q: 7}), (K, {R: 1}), (L, {S: 2, U: 3, T: 1}), (O, {V: 1, W: 1}), (R, {X: 2}), (T, {Z: 3, Y: 2})])\n"
     ]
    }
   ],
   "source": [
    "# test\n",
    "G1.print_edges()"
   ]
  },
  {
   "cell_type": "code",
   "execution_count": 190,
   "metadata": {
    "collapsed": false
   },
   "outputs": [
    {
     "data": {
      "text/plain": [
       "{B: 7, C: 8, D: 2, E: 3, F: 4}"
      ]
     },
     "execution_count": 190,
     "metadata": {},
     "output_type": "execute_result"
    }
   ],
   "source": [
    "G1.get_adjecent(A)"
   ]
  },
  {
   "cell_type": "markdown",
   "metadata": {},
   "source": [
    "## read graph and mark levels for vertices"
   ]
  },
  {
   "cell_type": "code",
   "execution_count": 191,
   "metadata": {
    "collapsed": false
   },
   "outputs": [
    {
     "name": "stdout",
     "output_type": "stream",
     "text": [
      "A  level-> 0\n",
      "F  level-> 1\n",
      "M  level-> 2\n",
      "B  level-> 1\n",
      "H  level-> 2\n",
      "O  level-> 3\n",
      "V  level-> 4\n",
      "W  level-> 4\n",
      "P  level-> 3\n",
      "G  level-> 2\n",
      "N  level-> 3\n",
      "C  level-> 1\n",
      "I  level-> 2\n",
      "Q  level-> 3\n",
      "E  level-> 1\n",
      "L  level-> 2\n",
      "S  level-> 3\n",
      "U  level-> 3\n",
      "T  level-> 3\n",
      "Z  level-> 4\n",
      "Y  level-> 4\n",
      "D  level-> 1\n",
      "J  level-> 2\n",
      "K  level-> 2\n",
      "R  level-> 3\n",
      "X  level-> 4\n"
     ]
    }
   ],
   "source": [
    "# read graph and mark levels for nodes\n",
    "verticeLevel = {}\n",
    "def level_to_vertices(start, lev):\n",
    "    verticeLevel[start] = lev\n",
    "    print start,\" level->\", lev\n",
    "    lev = lev+1\n",
    "    for node in G1.get_adjecent(start):\n",
    "        level_to_vertices(node, lev)\n",
    "\n",
    "level_to_vertices(A,0)\n",
    "#verticeLevel"
   ]
  },
  {
   "cell_type": "code",
   "execution_count": 192,
   "metadata": {
    "collapsed": true
   },
   "outputs": [],
   "source": [
    "# set level dict to Graph object (TODO Refactor)\n",
    "G1.set_node_levels(verticeLevel)"
   ]
  },
  {
   "cell_type": "markdown",
   "metadata": {},
   "source": [
    "## DFS"
   ]
  },
  {
   "cell_type": "code",
   "execution_count": 193,
   "metadata": {
    "collapsed": true
   },
   "outputs": [],
   "source": [
    "def reconstructPath(parentMap, start, goal):\n",
    "    path = list()\n",
    "    current = goal\n",
    "    while current is not start:\n",
    "        path.insert(0, current)\n",
    "        current = parentMap[current]\n",
    "        \n",
    "    path.insert(0,start)\n",
    "    return path"
   ]
  },
  {
   "cell_type": "code",
   "execution_count": 194,
   "metadata": {
    "collapsed": false
   },
   "outputs": [],
   "source": [
    "# Depth First Search\n",
    "def DFS(start,end, max_level):\n",
    "    print \"starting IDS with level:\", max_level\n",
    "    # init stack(LIFO), visitedSet, parentMap\n",
    "    myStack = []\n",
    "    visitedSet = set()\n",
    "    parentMap = collections.OrderedDict()\n",
    "    # push start onto stack and add to visited\n",
    "    myStack.append(start)\n",
    "    visitedSet.add(start)\n",
    "    # while stack not empty\n",
    "    while len(myStack) > 0:\n",
    "        # pop from stack \n",
    "        current = myStack.pop()\n",
    "        # if current == end -> return parent map\n",
    "        print \"current:\", current, \"stack:\", myStack\n",
    "        if current == end:\n",
    "            return parentMap\n",
    "        \n",
    "        # foreach current neighbor n not visited\n",
    "        #for neigh in G1.get_adjecent(current).items():\n",
    "        #    print neigh, G1.get_node_level(neigh[0])\n",
    "        for neighbor, distance in G1.get_adjecent(current).items():\n",
    "            # DFS -> IDS : and G1.get_node_level(neighbor) <= max_level\n",
    "            if neighbor not in visitedSet and G1.get_node_level(neighbor) <= max_level:\n",
    "                # add n to visited set\n",
    "                visitedSet.add(neighbor)\n",
    "                # add current as parent of n\n",
    "                parentMap[current] = neighbor\n",
    "                # push n onto stack \n",
    "                myStack.append(neighbor)\n",
    "    # if here -> no path\n",
    "    return {}"
   ]
  },
  {
   "cell_type": "code",
   "execution_count": null,
   "metadata": {
    "collapsed": true
   },
   "outputs": [],
   "source": []
  },
  {
   "cell_type": "markdown",
   "metadata": {},
   "source": [
    "## IDS (Iterative Deepening Search) Python implementation"
   ]
  },
  {
   "cell_type": "code",
   "execution_count": 195,
   "metadata": {
    "collapsed": false
   },
   "outputs": [],
   "source": [
    "# start vertice, end vertice, max depth\n",
    "def IDS(start, end, depth):\n",
    "    for level in range(0,depth+1):\n",
    "        result = DFS(start,end,level)\n",
    "        if result: return result"
   ]
  },
  {
   "cell_type": "markdown",
   "metadata": {},
   "source": [
    "### Usage"
   ]
  },
  {
   "cell_type": "code",
   "execution_count": 196,
   "metadata": {
    "collapsed": false
   },
   "outputs": [
    {
     "name": "stdout",
     "output_type": "stream",
     "text": [
      "starting IDS with level: 0\n",
      "current: A stack: []\n",
      "starting IDS with level: 1\n",
      "current: A stack: []\n",
      "current: D stack: [F, B, C, E]\n",
      "current: E stack: [F, B, C]\n",
      "current: C stack: [F, B]\n",
      "current: B stack: [F]\n",
      "current: F stack: []\n",
      "starting IDS with level: 2\n",
      "current: A stack: []\n",
      "current: D stack: [F, B, C, E]\n",
      "current: K stack: [F, B, C, E, J]\n",
      "current: J stack: [F, B, C, E]\n",
      "current: E stack: [F, B, C]\n",
      "current: L stack: [F, B, C]\n",
      "current: C stack: [F, B]\n",
      "current: I stack: [F, B]\n",
      "current: B stack: [F]\n",
      "current: G stack: [F, H]\n",
      "current: H stack: [F]\n",
      "current: F stack: []\n",
      "current: M stack: []\n",
      "starting IDS with level: 3\n",
      "current: A stack: []\n",
      "current: D stack: [F, B, C, E]\n",
      "current: K stack: [F, B, C, E, J]\n",
      "current: R stack: [F, B, C, E, J]\n",
      "current: J stack: [F, B, C, E]\n",
      "current: E stack: [F, B, C]\n",
      "current: L stack: [F, B, C]\n",
      "current: T stack: [F, B, C, S, U]\n",
      "current: U stack: [F, B, C, S]\n",
      "current: S stack: [F, B, C]\n"
     ]
    },
    {
     "data": {
      "text/plain": [
       "OrderedDict([(A, D), (D, K), (K, R), (E, L), (L, T)])"
      ]
     },
     "execution_count": 196,
     "metadata": {},
     "output_type": "execute_result"
    }
   ],
   "source": [
    "IDS(A,S,3)"
   ]
  },
  {
   "cell_type": "code",
   "execution_count": null,
   "metadata": {
    "collapsed": true
   },
   "outputs": [],
   "source": []
  }
 ],
 "metadata": {
  "anaconda-cloud": {},
  "kernelspec": {
   "display_name": "Python [default]",
   "language": "python",
   "name": "python2"
  },
  "language_info": {
   "codemirror_mode": {
    "name": "ipython",
    "version": 2
   },
   "file_extension": ".py",
   "mimetype": "text/x-python",
   "name": "python",
   "nbconvert_exporter": "python",
   "pygments_lexer": "ipython2",
   "version": "2.7.12"
  }
 },
 "nbformat": 4,
 "nbformat_minor": 1
}
